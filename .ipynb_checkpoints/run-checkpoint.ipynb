{
 "cells": [
  {
   "cell_type": "code",
   "execution_count": 1,
   "id": "4072ca5c",
   "metadata": {
    "scrolled": true
   },
   "outputs": [
    {
     "name": "stderr",
     "output_type": "stream",
     "text": [
      "Loading Images: 100%|██████████████████████████████████████████████████████████████████| 48/48 [00:01<00:00, 42.31it/s]\n",
      "Loading Masks: 100%|██████████████████████████████████████████████████████████████████| 48/48 [00:00<00:00, 301.48it/s]\n",
      "Resizing Images: 100%|███████████████████████████████████████████████████████████████| 48/48 [00:00<00:00, 2016.23it/s]\n",
      "Resizing Masks: 100%|████████████████████████████████████████████████████████████████| 48/48 [00:00<00:00, 6452.57it/s]"
     ]
    },
    {
     "name": "stdout",
     "output_type": "stream",
     "text": [
      "\n",
      " (768, 1024, 3) -> (192, 256, 3)\n"
     ]
    },
    {
     "name": "stderr",
     "output_type": "stream",
     "text": [
      "\n"
     ]
    }
   ],
   "source": [
    "from classes import *"
   ]
  },
  {
   "cell_type": "code",
   "execution_count": 2,
   "id": "96019b63",
   "metadata": {
    "scrolled": true
   },
   "outputs": [
    {
     "name": "stderr",
     "output_type": "stream",
     "text": [
      "Generating Pieces: 48it [00:13,  3.61it/s]\n"
     ]
    }
   ],
   "source": [
    "puzzle = Puzzle(MATCH_IMGS)"
   ]
  },
  {
   "cell_type": "code",
   "execution_count": null,
   "id": "c9d05a42",
   "metadata": {
    "scrolled": false
   },
   "outputs": [],
   "source": [
    "# This seems to do something somehow#\n",
    "# Seems that puzzle will only build if you iterate over true connections\n",
    "# We have a known true conection as follows: 3->44->6\n",
    "\n",
    "puzzle.pieces[3].insert(canvas)\n",
    "puzzle.pieces[3].inserted = True\n",
    "puzzle.pieces[44].insert(canvas)\n",
    "puzzle.pieces[44].inserted = True\n",
    "puzzle.pieces[6].insert(canvas)\n",
    "puzzle.pieces[6].inserted = True\n",
    "\n",
    "canvas.display_canvas()\n",
    "\n",
    "##"
   ]
  },
  {
   "cell_type": "markdown",
   "id": "698cc175",
   "metadata": {},
   "source": [
    "## Notice below that the predefined connections already exist."
   ]
  },
  {
   "cell_type": "code",
   "execution_count": 3,
   "id": "1f98f0d7",
   "metadata": {},
   "outputs": [
    {
     "name": "stdout",
     "output_type": "stream",
     "text": [
      "Point 1:  [ 56.95204353 179.19999695]\n",
      "Point 2:  [62.40852356 60.07466507]\n"
     ]
    }
   ],
   "source": [
    "puzzle.pieces[3].edge_list[0].connected_edge.info()"
   ]
  },
  {
   "cell_type": "code",
   "execution_count": 4,
   "id": "a155d253",
   "metadata": {},
   "outputs": [
    {
     "name": "stdout",
     "output_type": "stream",
     "text": [
      "Point 1:  [ 56.95204353 179.19999695]\n",
      "Point 2:  [62.40852356 60.07466507]\n"
     ]
    }
   ],
   "source": [
    "puzzle.pieces[44].edge_list[0].info()"
   ]
  },
  {
   "cell_type": "code",
   "execution_count": 5,
   "id": "e3fc9b76",
   "metadata": {},
   "outputs": [
    {
     "name": "stdout",
     "output_type": "stream",
     "text": [
      "Point 1:  [ 56.95204353 179.19999695]\n",
      "Point 2:  [62.40852356 60.07466507]\n"
     ]
    }
   ],
   "source": [
    "puzzle.pieces[3].edge_list[0].connected_edge.info()"
   ]
  },
  {
   "cell_type": "code",
   "execution_count": 6,
   "id": "2d0d3c43",
   "metadata": {},
   "outputs": [],
   "source": [
    "## We can see the same for the second piece also"
   ]
  },
  {
   "cell_type": "code",
   "execution_count": 7,
   "id": "fbb72d0d",
   "metadata": {},
   "outputs": [
    {
     "name": "stdout",
     "output_type": "stream",
     "text": [
      "Point 1:  [64.11367607 48.12799835]\n",
      "Point 2:  [167.4458313   47.44533157]\n"
     ]
    }
   ],
   "source": [
    "puzzle.pieces[3].edge_list[3].connected_edge.info()"
   ]
  },
  {
   "cell_type": "code",
   "execution_count": 8,
   "id": "9fb16ac1",
   "metadata": {},
   "outputs": [
    {
     "name": "stdout",
     "output_type": "stream",
     "text": [
      "Point 1:  [64.11367607 48.12799835]\n",
      "Point 2:  [167.4458313   47.44533157]\n"
     ]
    }
   ],
   "source": [
    "puzzle.pieces[6].edge_list[1].info()"
   ]
  },
  {
   "cell_type": "markdown",
   "id": "80c4b8b0",
   "metadata": {},
   "source": [
    "Possible naiive algorithm is to iterate through edge info and connected edge info to get matching then append?"
   ]
  },
  {
   "cell_type": "code",
   "execution_count": 10,
   "id": "b7b3ded3",
   "metadata": {},
   "outputs": [
    {
     "name": "stdout",
     "output_type": "stream",
     "text": [
      "First edge Point 1: [46.08000183 38.87744236]\n",
      "First edge Point 2: [ 44.71466827 138.7992897 ]\n",
      "Second edge Point 1: [ 44.71466827 138.7992897 ]\n",
      "Second edge Point 2: [163.83999634 140.84547043]\n",
      "Inserting piece:  3\n"
     ]
    }
   ],
   "source": [
    "corner_piece = puzzle.pieces[3]\n",
    "corner_piece.insert(canvas)\n",
    "corner_piece.inserted = True"
   ]
  },
  {
   "cell_type": "code",
   "execution_count": 11,
   "id": "4be197cc",
   "metadata": {},
   "outputs": [
    {
     "data": {
      "text/plain": [
       "3"
      ]
     },
     "execution_count": 11,
     "metadata": {},
     "output_type": "execute_result"
    }
   ],
   "source": [
    "corner_piece.idx"
   ]
  },
  {
   "cell_type": "code",
   "execution_count": null,
   "id": "601d8957",
   "metadata": {},
   "outputs": [],
   "source": []
  },
  {
   "cell_type": "code",
   "execution_count": null,
   "id": "f8ce9f81",
   "metadata": {
    "scrolled": false
   },
   "outputs": [],
   "source": [
    "for edge in corner_piece.return_edge():\n",
    "    for piece in puzzle.pieces:\n",
    "        if piece.inserted == False:\n",
    "            for e in piece.edge_list:\n",
    "                if e.info() == edge.connected_edge.info():\n",
    "                    piece.insert(canvas)\n",
    "                    piece.inserted = True\n",
    "        break"
   ]
  },
  {
   "cell_type": "code",
   "execution_count": null,
   "id": "45df1254",
   "metadata": {},
   "outputs": [],
   "source": [
    "canvas.display_canvas()"
   ]
  },
  {
   "cell_type": "code",
   "execution_count": null,
   "id": "33f8390c",
   "metadata": {},
   "outputs": [],
   "source": []
  },
  {
   "cell_type": "code",
   "execution_count": null,
   "id": "3c586cb0",
   "metadata": {},
   "outputs": [],
   "source": []
  },
  {
   "cell_type": "code",
   "execution_count": 9,
   "id": "b0774d60",
   "metadata": {},
   "outputs": [
    {
     "name": "stdout",
     "output_type": "stream",
     "text": [
      "A B C D E F "
     ]
    }
   ],
   "source": [
    "graph = {\n",
    "  'A' : ['B','C'],\n",
    "  'B' : ['D', 'E'],\n",
    "  'C' : ['F'],\n",
    "  'D' : [],\n",
    "  'E' : ['F'],\n",
    "  'F' : []\n",
    "}\n",
    "\n",
    "visited = [] # List to keep track of visited nodes.\n",
    "queue = []     #Initialize a queue\n",
    "\n",
    "def bfs(visited, graph, node):\n",
    "  visited.append(node)\n",
    "  queue.append(node)\n",
    "\n",
    "  while queue:\n",
    "    s = queue.pop(0) \n",
    "    print (s, end = \" \") \n",
    "\n",
    "    for neighbour in graph[s]:\n",
    "      if neighbour not in visited:\n",
    "        visited.append(neighbour)\n",
    "        queue.append(neighbour)\n",
    "\n",
    "# Driver Code\n",
    "bfs(visited, graph, 'A')"
   ]
  },
  {
   "cell_type": "code",
   "execution_count": null,
   "id": "37df718c",
   "metadata": {},
   "outputs": [],
   "source": [
    "co"
   ]
  }
 ],
 "metadata": {
  "kernelspec": {
   "display_name": "Python 3 (ipykernel)",
   "language": "python",
   "name": "python3"
  },
  "language_info": {
   "codemirror_mode": {
    "name": "ipython",
    "version": 3
   },
   "file_extension": ".py",
   "mimetype": "text/x-python",
   "name": "python",
   "nbconvert_exporter": "python",
   "pygments_lexer": "ipython3",
   "version": "3.8.11"
  }
 },
 "nbformat": 4,
 "nbformat_minor": 5
}
